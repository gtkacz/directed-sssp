{
 "cells": [
  {
   "cell_type": "code",
   "execution_count": null,
   "id": "486b67a0",
   "metadata": {},
   "outputs": [],
   "source": [
    "from .algorithm import DirectedSSSP\n",
    "from .types import Proof"
   ]
  },
  {
   "cell_type": "code",
   "execution_count": null,
   "id": "926c45a9",
   "metadata": {},
   "outputs": [],
   "source": [
    "proofs: tuple[Proof] = (\n",
    "\t{\"operation\": \"insert\", \"complexity\": \"O(max{1, log(N/M)})\"},\n",
    "\t{\"operation\": \"batch_prepend\", \"complexity\": \"O(L·max{1, log(L/M)})\"},\n",
    "\t{\"operation\": \"pull\", \"complexity\": \"O(|S'|)\"},\n",
    ")"
   ]
  },
  {
   "cell_type": "code",
   "execution_count": 4,
   "id": "9c595647",
   "metadata": {},
   "outputs": [],
   "source": [
    "def example(n: int = 5):\n",
    "\tedges = [(0, 1, 2.0), (0, 2, 4.0), (1, 2, 1.0), (1, 3, 7.0), (2, 3, 3.0), (3, 4, 1.0), (2, 4, 5.0)]\n",
    "\n",
    "\tsssp = DirectedSSSP(n, edges)\n",
    "\tdistances = sssp.compute_shortest_paths(0)\n",
    "\n",
    "\tprint(\"Shortest distances from vertex 0:\")\n",
    "\n",
    "\tfor i, dist in enumerate(distances):\n",
    "\t\tprint(f\"  To vertex {i}: {dist}\")\n",
    "\n",
    "\treturn distances"
   ]
  }
 ],
 "metadata": {
  "kernelspec": {
   "display_name": "directed-sssp",
   "language": "python",
   "name": "python3"
  },
  "language_info": {
   "codemirror_mode": {
    "name": "ipython",
    "version": 3
   },
   "file_extension": ".py",
   "mimetype": "text/x-python",
   "name": "python",
   "nbconvert_exporter": "python",
   "pygments_lexer": "ipython3",
   "version": "3.13.0"
  }
 },
 "nbformat": 4,
 "nbformat_minor": 5
}
